{
  "nbformat": 4,
  "nbformat_minor": 0,
  "metadata": {
    "colab": {
      "name": "Untitled0.ipynb",
      "provenance": []
    },
    "kernelspec": {
      "name": "python3",
      "display_name": "Python 3"
    },
    "language_info": {
      "name": "python"
    }
  },
  "cells": [
    {
      "cell_type": "code",
      "metadata": {
        "id": "Czkw5o3vN_Ag"
      },
      "source": [
        "!git clone -q https://github.com/AlfredPros/cfg demo"
      ],
      "execution_count": null,
      "outputs": []
    },
    {
      "cell_type": "code",
      "metadata": {
        "id": "NVpdDT4QLAew"
      },
      "source": [
        "import nltk\n",
        "import codecs"
      ],
      "execution_count": 1,
      "outputs": []
    },
    {
      "cell_type": "code",
      "metadata": {
        "id": "FPorVTiELVnb",
        "colab": {
          "base_uri": "https://localhost:8080/"
        },
        "outputId": "c8ee391e-a484-40db-da64-a2b30fe2fc54"
      },
      "source": [
        "load_grammar = nltk.data.load('file:demo/Englishgrammer.cfg')\n",
        "file_input = codecs.open('demo/EnglishInput.txt', 'r')\n",
        "for sent in file_input:\n",
        "    wrong_syntax=1\n",
        "    sent_split = sent.split()\n",
        "    print(\"\\n\\n\"+ sent)\n",
        "    rd_parser = nltk.RecursiveDescentParser(load_grammar)\n",
        "    for tree_struc in rd_parser.parse(sent_split):\n",
        "        s = tree_struc\n",
        "        wrong_syntax=0\n",
        "        print(\"\\n Correct Grammer !!! \\n\")\n",
        "        print(str(s))\n",
        "        f = open(\"demoEnglish.txt\", \"a\")\n",
        "        f.write(\"\\nCorrect Grammer!!!!! \\n\")\n",
        "        f.write(str(s))\n",
        "        f.close()\n",
        "    if wrong_syntax==1:\n",
        "        print(\"\\n Wrong Grammer!!!!!! \\n\")\n",
        "        f = open(\"demoEnglish.txt\", \"a\")\n",
        "        f.write(\"\\n Wrong Grammer!!!!! \\n\")\n",
        "        f.close()"
      ],
      "execution_count": 3,
      "outputs": [
        {
          "output_type": "stream",
          "name": "stdout",
          "text": [
            "\n",
            "\n",
            "these boys like good cars\n",
            "\n",
            "\n",
            " Correct Grammer !!! \n",
            "\n",
            "(S\n",
            "  (NP_Pl (Det_Pl these) (N_Pl boys))\n",
            "  (VP_Pl (TV_Pres_Pl like) (NP (NP_Pl (Adj good) (N_Pl cars)))))\n",
            "\n",
            "\n",
            "these boys likes good cars\n",
            "\n",
            "\n",
            " Wrong Grammer!!!!!! \n",
            "\n",
            "\n",
            "\n",
            "all good cars sadly dissappear\n",
            "\n",
            "\n",
            " Correct Grammer !!! \n",
            "\n",
            "(S\n",
            "  (NP_Pl (Det_Pl all) (Adj good) (N_Pl cars))\n",
            "  (VP_Pl (Adv sadly) (IV_Pres_Pl dissappear)))\n",
            "\n",
            "\n",
            "all good car sadly dissappear \n",
            "\n",
            "\n",
            " Wrong Grammer!!!!!! \n",
            "\n",
            "\n",
            "\n",
            "rin accidentally eats all delicious cakes\n",
            "\n",
            "\n",
            " Correct Grammer !!! \n",
            "\n",
            "(S\n",
            "  (NP_Sg (PropN_Sg rin))\n",
            "  (VP_Sg\n",
            "    (Adv accidentally)\n",
            "    (TV_Pres_Sg eats)\n",
            "    (NP (NP_Pl (Det_Pl all) (Adj delicious) (N_Pl cakes)))))\n",
            "\n",
            "\n",
            "we mysteriously drove an oddly tame horse\n",
            "\n",
            " Wrong Grammer!!!!!! \n",
            "\n"
          ]
        }
      ]
    }
  ]
}