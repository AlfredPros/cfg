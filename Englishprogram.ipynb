{
  "nbformat": 4,
  "nbformat_minor": 0,
  "metadata": {
    "colab": {
      "name": "Untitled0.ipynb",
      "provenance": []
    },
    "kernelspec": {
      "name": "python3",
      "display_name": "Python 3"
    },
    "language_info": {
      "name": "python"
    }
  },
  "cells": [
    {
      "cell_type": "code",
      "metadata": {
        "id": "NVpdDT4QLAew"
      },
      "source": [
        "import nltk\n",
        "import codecs\n",
        "load_grammar = nltk.data.load('file:Englishgrammer.cfg')\n",
        "file_input = codecs.open('EnglishInput.txt', 'r')"
      ],
      "execution_count": 2,
      "outputs": []
    },
    {
      "cell_type": "code",
      "metadata": {
        "id": "FPorVTiELVnb"
      },
      "source": [
        "for sent in file_input:\n",
        "    wrong_syntax=1\n",
        "    sent_split = sent.split()\n",
        "    print(\"\\n\\n\"+ sent)\n",
        "    rd_parser = nltk.RecursiveDescentParser(load_grammar)\n",
        "    for tree_struc in rd_parser.parse(sent_split):\n",
        "        s = tree_struc\n",
        "        wrong_syntax=0\n",
        "        print(\"\\n Correct Grammer !!! \\n\")\n",
        "        print(str(s))\n",
        "        f = open(\"demoEnglish.txt\", \"a\")\n",
        "        f.write(\"\\nCorrect Grammer!!!!! \\n\")\n",
        "        f.write(str(s))\n",
        "        f.close()\n",
        "    if wrong_syntax==1:\n",
        "        print(\"\\n Wrong Grammer!!!!!! \\n\")\n",
        "        f = open(\"demoEnglish.txt\", \"a\")\n",
        "        f.write(\"\\n Wrong Grammer!!!!! \\n\")\n",
        "        f.close()"
      ],
      "execution_count": null,
      "outputs": []
    }
  ]
}