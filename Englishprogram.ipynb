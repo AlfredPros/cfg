{
  "nbformat": 4,
  "nbformat_minor": 0,
  "metadata": {
    "colab": {
      "name": "Untitled0.ipynb",
      "provenance": []
    },
    "kernelspec": {
      "name": "python3",
      "display_name": "Python 3"
    },
    "language_info": {
      "name": "python"
    }
  },
  "cells": [
    {
      "cell_type": "code",
      "metadata": {
        "id": "Czkw5o3vN_Ag"
      },
      "source": [
        "!git clone -q https://github.com/AlfredPros/cfg demo"
      ],
      "execution_count": 1,
      "outputs": []
    },
    {
      "cell_type": "code",
      "metadata": {
        "id": "NVpdDT4QLAew"
      },
      "source": [
        "import nltk\n",
        "import codecs"
      ],
      "execution_count": 2,
      "outputs": []
    },
    {
      "cell_type": "code",
      "metadata": {
        "id": "FPorVTiELVnb",
        "colab": {
          "base_uri": "https://localhost:8080/"
        },
        "outputId": "2cdf68c6-ce12-466f-d373-edb10beb0c6d"
      },
      "source": [
        "load_grammar = nltk.data.load('file:demo/Englishgrammer.cfg')\n",
        "file_input = codecs.open('demo/EnglishInput.txt', 'r')\n",
        "for sent in file_input:\n",
        "    wrong_syntax=1\n",
        "    sent_split = sent.split()\n",
        "    print(\"\\n\\n\"+ sent)\n",
        "    rd_parser = nltk.RecursiveDescentParser(load_grammar)\n",
        "    for tree_struc in rd_parser.parse(sent_split):\n",
        "        s = tree_struc\n",
        "        wrong_syntax=0\n",
        "        print(\"\\n Correct Grammer !!! \\n\")\n",
        "        print(str(s))\n",
        "        f = open(\"demoEnglish.txt\", \"a\")\n",
        "        f.write(\"\\nCorrect Grammer!!!!! \\n\")\n",
        "        f.write(str(s))\n",
        "        f.close()\n",
        "    if wrong_syntax==1:\n",
        "        print(\"\\n Wrong Grammer!!!!!! \\n\")\n",
        "        f = open(\"demoEnglish.txt\", \"a\")\n",
        "        f.write(\"\\n Wrong Grammer!!!!! \\n\")\n",
        "        f.close()"
      ],
      "execution_count": 3,
      "outputs": [
        {
          "output_type": "stream",
          "name": "stdout",
          "text": [
            "\n",
            "\n",
            "i saw rashmi\n",
            "\n",
            "\n",
            " Correct Grammer !!! \n",
            "\n",
            "(S\n",
            "  (NP_Pl (PropN_Pl i))\n",
            "  (VP_Pl (TV_Past saw) (NP (NP_Sg (PropN_Sg rashmi)))))\n",
            "\n",
            "\n",
            "piyumika ate an apple\n",
            "\n",
            "\n",
            " Correct Grammer !!! \n",
            "\n",
            "(S\n",
            "  (NP_Sg (PropN_Sg piyumika))\n",
            "  (VP_Sg (TV_Past ate) (NP (NP_Sg (Det_Sg an) (N_Sg apple)))))\n",
            "\n",
            "\n",
            "rashmi like apple\n",
            "\n",
            "\n",
            " Wrong Grammer!!!!!! \n",
            "\n",
            "\n",
            "\n",
            "good child happily walked\n",
            "\n",
            "\n",
            " Correct Grammer !!! \n",
            "\n",
            "(S\n",
            "  (NP_Sg (Adj good) (N_Sg child))\n",
            "  (VP_Sg (Adv happily) (IV_Past walked)))\n",
            "\n",
            "\n",
            "i walks\n",
            "\n",
            "\n",
            " Wrong Grammer!!!!!! \n",
            "\n",
            "\n",
            "\n",
            "innocent boys like all dogs\n",
            "\n",
            "\n",
            " Correct Grammer !!! \n",
            "\n",
            "(S\n",
            "  (NP_Pl (Adj innocent) (N_Pl boys))\n",
            "  (VP_Pl (TV_Pres_Pl like) (NP (NP_Pl (Det_Pl all) (N_Pl dogs)))))\n",
            "\n",
            "\n",
            "they shot an elephant\n",
            "\n",
            "\n",
            " Correct Grammer !!! \n",
            "\n",
            "(S\n",
            "  (NP_Pl (PropN_Pl they))\n",
            "  (VP_Pl (TV_Past shot) (NP (NP_Sg (Det_Sg an) (N_Sg elephant)))))\n",
            "\n",
            "\n",
            "these girl likes cars \n",
            "\n",
            " Wrong Grammer!!!!!! \n",
            "\n"
          ]
        }
      ]
    }
  ]
}